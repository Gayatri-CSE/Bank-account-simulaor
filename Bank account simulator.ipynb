{
 "cells": [
  {
   "cell_type": "code",
   "execution_count": 1,
   "id": "f9497cdb-29da-4b91-9f69-02e4637e85e4",
   "metadata": {},
   "outputs": [
    {
     "name": "stdout",
     "output_type": "stream",
     "text": [
      "This is a Tesla: Model 3.\n",
      "This is a Honda: Accord.\n",
      "Buddy is barking!\n",
      "Max is barking!\n",
      "Hello, my name is John and I am 25 years old.\n",
      "\n",
      "--- Bank Account Simulator ---\n",
      "1. Create Account\n",
      "2. Access Account\n",
      "3. Exit\n"
     ]
    },
    {
     "name": "stdin",
     "output_type": "stream",
     "text": [
      "Enter your choice(1-3):  1\n"
     ]
    },
    {
     "name": "stdout",
     "output_type": "stream",
     "text": [
      "{}\n"
     ]
    },
    {
     "name": "stdin",
     "output_type": "stream",
     "text": [
      "Enter account holder's name:  Yuva\n",
      "Enter initial Deposit Amount:  120000\n"
     ]
    },
    {
     "name": "stdout",
     "output_type": "stream",
     "text": [
      "Account created successfully!\n",
      "\n",
      "--- Bank Account Simulator ---\n",
      "1. Create Account\n",
      "2. Access Account\n",
      "3. Exit\n"
     ]
    },
    {
     "name": "stdin",
     "output_type": "stream",
     "text": [
      "Enter your choice(1-3):  2\n"
     ]
    },
    {
     "name": "stdout",
     "output_type": "stream",
     "text": [
      "{'Yuva': <__main__.BankAccount object at 0x000001B89EB8FE50>}\n"
     ]
    },
    {
     "name": "stdin",
     "output_type": "stream",
     "text": [
      "Enter your name:  Yuva\n"
     ]
    },
    {
     "name": "stdout",
     "output_type": "stream",
     "text": [
      "\n",
      "--- Account Menu ---\n",
      "1. Deposit\n",
      "2. Withdraw\n",
      "3. Show Details\n",
      "4. Exit\n"
     ]
    },
    {
     "name": "stdin",
     "output_type": "stream",
     "text": [
      "Enter your choice(1-4):  1\n",
      "Enter deposit amount:  1\n"
     ]
    },
    {
     "name": "stdout",
     "output_type": "stream",
     "text": [
      "Deposited $1.0. New balance: $120001.0\n",
      "\n",
      "--- Account Menu ---\n",
      "1. Deposit\n",
      "2. Withdraw\n",
      "3. Show Details\n",
      "4. Exit\n"
     ]
    },
    {
     "name": "stdin",
     "output_type": "stream",
     "text": [
      "Enter your choice(1-4):  3\n"
     ]
    },
    {
     "name": "stdout",
     "output_type": "stream",
     "text": [
      "\n",
      "--- Account Details ---\n",
      "Account Holder: Yuva\n",
      "Account Balance: $120001.0\n",
      "\n",
      "--- Account Menu ---\n",
      "1. Deposit\n",
      "2. Withdraw\n",
      "3. Show Details\n",
      "4. Exit\n"
     ]
    },
    {
     "name": "stdin",
     "output_type": "stream",
     "text": [
      "Enter your choice(1-4):  4\n"
     ]
    },
    {
     "name": "stdout",
     "output_type": "stream",
     "text": [
      "Exiting account menu.\n",
      "\n",
      "--- Bank Account Simulator ---\n",
      "1. Create Account\n",
      "2. Access Account\n",
      "3. Exit\n"
     ]
    },
    {
     "name": "stdin",
     "output_type": "stream",
     "text": [
      "Enter your choice(1-3):  3\n"
     ]
    },
    {
     "name": "stdout",
     "output_type": "stream",
     "text": [
      "{'Yuva': <__main__.BankAccount object at 0x000001B89EB8FE50>}\n",
      "Exiting the program. Goodbye!\n"
     ]
    }
   ],
   "source": [
    "class Car:\n",
    "  def __init__(self, brand, model):\n",
    "    self.brand = brand\n",
    "    self.model = model\n",
    "\n",
    "  def display_info(self):\n",
    "    print(f\"This is a {self.brand}: {self.model}.\")\n",
    "\n",
    "# Create an object\n",
    "my_car = Car(\"Tesla\", \"Model 3\")\n",
    "my_car.display_info()\n",
    "\n",
    "your_car = Car(\"Honda\", \"Accord\")\n",
    "your_car.display_info()\n",
    "\n",
    "class Dog:\n",
    "  def __init__(self, name, breed):\n",
    "    self.name = name\n",
    "    self.breed = breed\n",
    "\n",
    "  def bark(self):\n",
    "    print(f\"{self.name} is barking!\")\n",
    "\n",
    "# Create objects\n",
    "dog1 = Dog(\"Buddy\", \"Golden Retriever\")\n",
    "dog2 = Dog(\"Max\", \"Bulldog\")\n",
    "\n",
    "dog1.bark()\n",
    "dog2.bark()\n",
    "\n",
    "class Person:\n",
    "  def __init__(self, name, age):\n",
    "    self.name = name\n",
    "    self.age = age\n",
    "\n",
    "  def greet(self):\n",
    "    print(f\"Hello, my name is {self.name} and I am {self.age} years old.\")\n",
    "\n",
    "person1 = Person(\"John\", 25)\n",
    "person1.greet()\n",
    "\n",
    "# Bank Account Simulator\n",
    "\n",
    "class BankAccount:\n",
    "  def __init__(self, account_holder, initial_balance=0):\n",
    "    self.account_holder = account_holder\n",
    "    self.balance = initial_balance\n",
    "\n",
    "  #Deposit Money\n",
    "  def deposit(self, amount):\n",
    "    if amount > 0:\n",
    "      self.balance += amount\n",
    "      print(f\"Deposited ${amount}. New balance: ${self.balance}\")\n",
    "    else:\n",
    "      print(\"Invalid deposit amount. Amount must be greater than 0.\")\n",
    "\n",
    "  #Withdraw Money\n",
    "  def withdraw(self, amount):\n",
    "    if amount > 0 and amount <= self.balance:\n",
    "      self.balance -= amount\n",
    "      print(f\"Withdrew ${amount}. New balance: ${self.balance}\")\n",
    "    else:\n",
    "      print(\"Invalid withdrawal amount or insufficient funds.\")\n",
    "\n",
    "  # Show Account Details\n",
    "  def show_details(self):\n",
    "    print(\"\\n--- Account Details ---\")\n",
    "    print(f\"Account Holder: {self.account_holder}\")\n",
    "    print(f\"Account Balance: ${self.balance}\")\n",
    "\n",
    "\n",
    "# Main Program\n",
    "accounts = {}\n",
    "\n",
    "def create_account():\n",
    "  name = input(\"Enter account holder's name: \").strip()\n",
    "  initial_deposit = float(input(\"Enter initial Deposit Amount: \"))\n",
    "  account = BankAccount(name, initial_deposit)\n",
    "  accounts[name] = account\n",
    "  print(\"Account created successfully!\")\n",
    "\n",
    "def access_account():\n",
    "  name = input(\"Enter your name: \").strip()\n",
    "  if name in accounts:\n",
    "    account = accounts[name]\n",
    "    while True:\n",
    "      print(\"\\n--- Account Menu ---\")\n",
    "      print(\"1. Deposit\")\n",
    "      print(\"2. Withdraw\")\n",
    "      print(\"3. Show Details\")\n",
    "      print(\"4. Exit\")\n",
    "      choice = input(\"Enter your choice(1-4): \")\n",
    "\n",
    "      if choice == '1':\n",
    "        amount = float(input(\"Enter deposit amount: \"))\n",
    "        account.deposit(amount)\n",
    "      elif choice == '2':\n",
    "        amount = float(input(\"Enter withdrawal amount: \"))\n",
    "        account.withdraw(amount)\n",
    "      elif choice == '3':\n",
    "        account.show_details()\n",
    "      elif choice == '4':\n",
    "        print(\"Exiting account menu.\")\n",
    "        break\n",
    "      else:\n",
    "        print(\"Invalid choice. Please select a valid option.\")\n",
    "  else:\n",
    "    print(\"Account not found. Please create an account first.\")\n",
    "\n",
    "# Main Menu\n",
    "while True:\n",
    "  print(\"\\n--- Bank Account Simulator ---\")\n",
    "  print(\"1. Create Account\")\n",
    "  print(\"2. Access Account\")\n",
    "  print(\"3. Exit\")\n",
    "  choice = input(\"Enter your choice(1-3): \")\n",
    "\n",
    "  print(accounts)\n",
    "\n",
    "  if choice == '1':\n",
    "    create_account()\n",
    "  elif choice == '2':\n",
    "    access_account()\n",
    "  elif choice == '3':\n",
    "    print(\"Exiting the program. Goodbye!\")\n",
    "    break\n",
    "  else:\n",
    "    print(\"Invalid choice. Please select a valid option.\")"
   ]
  },
  {
   "cell_type": "code",
   "execution_count": null,
   "id": "5930c421-d159-4f7f-9ce4-d4c59e7b503a",
   "metadata": {},
   "outputs": [],
   "source": []
  }
 ],
 "metadata": {
  "kernelspec": {
   "display_name": "Python 3 (ipykernel)",
   "language": "python",
   "name": "python3"
  },
  "language_info": {
   "codemirror_mode": {
    "name": "ipython",
    "version": 3
   },
   "file_extension": ".py",
   "mimetype": "text/x-python",
   "name": "python",
   "nbconvert_exporter": "python",
   "pygments_lexer": "ipython3",
   "version": "3.11.5"
  }
 },
 "nbformat": 4,
 "nbformat_minor": 5
}
