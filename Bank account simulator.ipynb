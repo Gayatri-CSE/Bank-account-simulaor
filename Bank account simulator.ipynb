{
 "cells": [
  {
   "cell_type": "code",
   "execution_count": 2,
   "id": "f9497cdb-29da-4b91-9f69-02e4637e85e4",
   "metadata": {},
   "outputs": [
    {
     "name": "stdout",
     "output_type": "stream",
     "text": [
      "\n",
      "--- Bank Account Simulator ---\n",
      "1. Create Account\n",
      "2. Access Account\n",
      "3. Exit\n"
     ]
    },
    {
     "name": "stdin",
     "output_type": "stream",
     "text": [
      "Enter your choice(1-3):  1\n"
     ]
    },
    {
     "name": "stdout",
     "output_type": "stream",
     "text": [
      "{}\n"
     ]
    },
    {
     "name": "stdin",
     "output_type": "stream",
     "text": [
      "Enter account holder's name:  Yuva\n",
      "Enter initial Deposit Amount:  12000\n"
     ]
    },
    {
     "name": "stdout",
     "output_type": "stream",
     "text": [
      "Account created successfully!\n",
      "\n",
      "--- Bank Account Simulator ---\n",
      "1. Create Account\n",
      "2. Access Account\n",
      "3. Exit\n"
     ]
    },
    {
     "name": "stdin",
     "output_type": "stream",
     "text": [
      "Enter your choice(1-3):  1\n"
     ]
    },
    {
     "name": "stdout",
     "output_type": "stream",
     "text": [
      "{'Yuva': <__main__.BankAccount object at 0x000001B89EBB6DD0>}\n"
     ]
    },
    {
     "name": "stdin",
     "output_type": "stream",
     "text": [
      "Enter account holder's name:  Sham\n",
      "Enter initial Deposit Amount:  50000\n"
     ]
    },
    {
     "name": "stdout",
     "output_type": "stream",
     "text": [
      "Account created successfully!\n",
      "\n",
      "--- Bank Account Simulator ---\n",
      "1. Create Account\n",
      "2. Access Account\n",
      "3. Exit\n"
     ]
    },
    {
     "name": "stdin",
     "output_type": "stream",
     "text": [
      "Enter your choice(1-3):  1\n"
     ]
    },
    {
     "name": "stdout",
     "output_type": "stream",
     "text": [
      "{'Yuva': <__main__.BankAccount object at 0x000001B89EBB6DD0>, 'Sham': <__main__.BankAccount object at 0x000001B89E80E750>}\n"
     ]
    },
    {
     "name": "stdin",
     "output_type": "stream",
     "text": [
      "Enter account holder's name:  Ram\n",
      "Enter initial Deposit Amount:  4300\n"
     ]
    },
    {
     "name": "stdout",
     "output_type": "stream",
     "text": [
      "Account created successfully!\n",
      "\n",
      "--- Bank Account Simulator ---\n",
      "1. Create Account\n",
      "2. Access Account\n",
      "3. Exit\n"
     ]
    },
    {
     "name": "stdin",
     "output_type": "stream",
     "text": [
      "Enter your choice(1-3):  2\n"
     ]
    },
    {
     "name": "stdout",
     "output_type": "stream",
     "text": [
      "{'Yuva': <__main__.BankAccount object at 0x000001B89EBB6DD0>, 'Sham': <__main__.BankAccount object at 0x000001B89E80E750>, 'Ram': <__main__.BankAccount object at 0x000001B89EB8FC90>}\n"
     ]
    },
    {
     "name": "stdin",
     "output_type": "stream",
     "text": [
      "Enter your name:  Ram\n"
     ]
    },
    {
     "name": "stdout",
     "output_type": "stream",
     "text": [
      "\n",
      "--- Account Menu ---\n",
      "1. Deposit\n",
      "2. Withdraw\n",
      "3. Show Details\n",
      "4. Exit\n"
     ]
    },
    {
     "name": "stdin",
     "output_type": "stream",
     "text": [
      "Enter your choice(1-4):  1\n",
      "Enter deposit amount:  700\n"
     ]
    },
    {
     "name": "stdout",
     "output_type": "stream",
     "text": [
      "Deposited $700.0. New balance: $5000.0\n",
      "\n",
      "--- Account Menu ---\n",
      "1. Deposit\n",
      "2. Withdraw\n",
      "3. Show Details\n",
      "4. Exit\n"
     ]
    },
    {
     "name": "stdin",
     "output_type": "stream",
     "text": [
      "Enter your choice(1-4):  2\n",
      "Enter withdrawal amount:  500\n"
     ]
    },
    {
     "name": "stdout",
     "output_type": "stream",
     "text": [
      "Withdrew $500.0. New balance: $4500.0\n",
      "\n",
      "--- Account Menu ---\n",
      "1. Deposit\n",
      "2. Withdraw\n",
      "3. Show Details\n",
      "4. Exit\n"
     ]
    },
    {
     "name": "stdin",
     "output_type": "stream",
     "text": [
      "Enter your choice(1-4):  3\n"
     ]
    },
    {
     "name": "stdout",
     "output_type": "stream",
     "text": [
      "\n",
      "--- Account Details ---\n",
      "Account Holder: Ram\n",
      "Account Balance: $4500.0\n",
      "\n",
      "--- Account Menu ---\n",
      "1. Deposit\n",
      "2. Withdraw\n",
      "3. Show Details\n",
      "4. Exit\n"
     ]
    },
    {
     "name": "stdin",
     "output_type": "stream",
     "text": [
      "Enter your choice(1-4):  4\n"
     ]
    },
    {
     "name": "stdout",
     "output_type": "stream",
     "text": [
      "Exiting account menu.\n",
      "\n",
      "--- Bank Account Simulator ---\n",
      "1. Create Account\n",
      "2. Access Account\n",
      "3. Exit\n"
     ]
    },
    {
     "name": "stdin",
     "output_type": "stream",
     "text": [
      "Enter your choice(1-3):  3\n"
     ]
    },
    {
     "name": "stdout",
     "output_type": "stream",
     "text": [
      "{'Yuva': <__main__.BankAccount object at 0x000001B89EBB6DD0>, 'Sham': <__main__.BankAccount object at 0x000001B89E80E750>, 'Ram': <__main__.BankAccount object at 0x000001B89EB8FC90>}\n",
      "Exiting the program. Goodbye!\n"
     ]
    }
   ],
   "source": [
    "\n",
    "# Bank Account Simulator\n",
    "\n",
    "class BankAccount:\n",
    "  def __init__(self, account_holder, initial_balance=0):\n",
    "    self.account_holder = account_holder\n",
    "    self.balance = initial_balance\n",
    "\n",
    "  #Deposit Money\n",
    "  def deposit(self, amount):\n",
    "    if amount > 0:\n",
    "      self.balance += amount\n",
    "      print(f\"Deposited ${amount}. New balance: ${self.balance}\")\n",
    "    else:\n",
    "      print(\"Invalid deposit amount. Amount must be greater than 0.\")\n",
    "\n",
    "  #Withdraw Money\n",
    "  def withdraw(self, amount):\n",
    "    if amount > 0 and amount <= self.balance:\n",
    "      self.balance -= amount\n",
    "      print(f\"Withdrew ${amount}. New balance: ${self.balance}\")\n",
    "    else:\n",
    "      print(\"Invalid withdrawal amount or insufficient funds.\")\n",
    "\n",
    "  # Show Account Details\n",
    "  def show_details(self):\n",
    "    print(\"\\n--- Account Details ---\")\n",
    "    print(f\"Account Holder: {self.account_holder}\")\n",
    "    print(f\"Account Balance: ${self.balance}\")\n",
    "\n",
    "\n",
    "# Main Program\n",
    "accounts = {}\n",
    "\n",
    "def create_account():\n",
    "  name = input(\"Enter account holder's name: \").strip()\n",
    "  initial_deposit = float(input(\"Enter initial Deposit Amount: \"))\n",
    "  account = BankAccount(name, initial_deposit)\n",
    "  accounts[name] = account\n",
    "  print(\"Account created successfully!\")\n",
    "\n",
    "def access_account():\n",
    "  name = input(\"Enter your name: \").strip()\n",
    "  if name in accounts:\n",
    "    account = accounts[name]\n",
    "    while True:\n",
    "      print(\"\\n--- Account Menu ---\")\n",
    "      print(\"1. Deposit\")\n",
    "      print(\"2. Withdraw\")\n",
    "      print(\"3. Show Details\")\n",
    "      print(\"4. Exit\")\n",
    "      choice = input(\"Enter your choice(1-4): \")\n",
    "\n",
    "      if choice == '1':\n",
    "        amount = float(input(\"Enter deposit amount: \"))\n",
    "        account.deposit(amount)\n",
    "      elif choice == '2':\n",
    "        amount = float(input(\"Enter withdrawal amount: \"))\n",
    "        account.withdraw(amount)\n",
    "      elif choice == '3':\n",
    "        account.show_details()\n",
    "      elif choice == '4':\n",
    "        print(\"Exiting account menu.\")\n",
    "        break\n",
    "      else:\n",
    "        print(\"Invalid choice. Please select a valid option.\")\n",
    "  else:\n",
    "    print(\"Account not found. Please create an account first.\")\n",
    "\n",
    "# Main Menu\n",
    "while True:\n",
    "  print(\"\\n--- Bank Account Simulator ---\")\n",
    "  print(\"1. Create Account\")\n",
    "  print(\"2. Access Account\")\n",
    "  print(\"3. Exit\")\n",
    "  choice = input(\"Enter your choice(1-3): \")\n",
    "\n",
    "  print(accounts)\n",
    "\n",
    "  if choice == '1':\n",
    "    create_account()\n",
    "  elif choice == '2':\n",
    "    access_account()\n",
    "  elif choice == '3':\n",
    "    print(\"Exiting the program. Goodbye!\")\n",
    "    break\n",
    "  else:\n",
    "    print(\"Invalid choice. Please select a valid option.\")"
   ]
  },
  {
   "cell_type": "code",
   "execution_count": null,
   "id": "5930c421-d159-4f7f-9ce4-d4c59e7b503a",
   "metadata": {},
   "outputs": [],
   "source": []
  }
 ],
 "metadata": {
  "kernelspec": {
   "display_name": "Python 3 (ipykernel)",
   "language": "python",
   "name": "python3"
  },
  "language_info": {
   "codemirror_mode": {
    "name": "ipython",
    "version": 3
   },
   "file_extension": ".py",
   "mimetype": "text/x-python",
   "name": "python",
   "nbconvert_exporter": "python",
   "pygments_lexer": "ipython3",
   "version": "3.11.5"
  }
 },
 "nbformat": 4,
 "nbformat_minor": 5
}
